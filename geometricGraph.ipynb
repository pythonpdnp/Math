{
  "nbformat": 4,
  "nbformat_minor": 0,
  "metadata": {
    "colab": {
      "provenance": [],
      "collapsed_sections": [
        "NqQpmdcvM3pg",
        "1Mic8lh3S3SS",
        "QAHY-eYHR7tg",
        "qwtequRAm_LB"
      ],
      "authorship_tag": "ABX9TyM8CW+q7e1JXkd3CpIrKK68",
      "include_colab_link": true
    },
    "kernelspec": {
      "name": "python3",
      "display_name": "Python 3"
    },
    "language_info": {
      "name": "python"
    }
  },
  "cells": [
    {
      "cell_type": "markdown",
      "metadata": {
        "id": "view-in-github",
        "colab_type": "text"
      },
      "source": [
        "<a href=\"https://colab.research.google.com/github/pythonpdnp/Math/blob/main/geometricGraph.ipynb\" target=\"_parent\"><img src=\"https://colab.research.google.com/assets/colab-badge.svg\" alt=\"Open In Colab\"/></a>"
      ]
    },
    {
      "cell_type": "code",
      "execution_count": null,
      "metadata": {
        "id": "qsBilxExRD9p"
      },
      "outputs": [],
      "source": [
        "import numpy as np\n",
        "import matplotlib.pyplot as plt"
      ]
    },
    {
      "cell_type": "markdown",
      "source": [
        "### contour(등고선)"
      ],
      "metadata": {
        "id": "NqQpmdcvM3pg"
      }
    },
    {
      "cell_type": "code",
      "source": [
        "x = np.linspace(-5, 5, 101)\n",
        "y = np.linspace(-5, 5, 101)\n",
        "\n",
        "X, Y = np.meshgrid(x, y)    # 격자 생성"
      ],
      "metadata": {
        "id": "I9NLakCZNAIP"
      },
      "execution_count": null,
      "outputs": []
    },
    {
      "cell_type": "code",
      "source": [
        "Z = np.sin(X) + np.cos(Y)\n",
        "\n",
        "contour = plt.contour(X,Y,Z)                     # (X,Y,Z, list)로 list에 해당하는 특정 등고선만 뽑을 수 있음\n",
        "plt.clabel(contour, inline=True, fontsize=8)\n",
        "# plt.axis('square')                             # x축과 y축의 범위 같으면 plt.gca().set_aspect('equal') 대신 사용 가능\n",
        "plt.gca().set_aspect('equal')\n",
        "\n",
        "plt.show()"
      ],
      "metadata": {
        "id": "-OYSOG7ZNk57"
      },
      "execution_count": null,
      "outputs": []
    },
    {
      "cell_type": "markdown",
      "source": [
        "### Circles (원)\n",
        "\n",
        "$ (x-h)^2 + (y-k)^2 = r^2$"
      ],
      "metadata": {
        "id": "1Mic8lh3S3SS"
      }
    },
    {
      "cell_type": "code",
      "source": [
        "h, k = 2, -3    # 중심(center)\n",
        "r = 3           # 반지름(radius)"
      ],
      "metadata": {
        "id": "WM8SJkelS2RH"
      },
      "execution_count": null,
      "outputs": []
    },
    {
      "cell_type": "code",
      "source": [
        "axlim = r + np.max((abs(h),abs(k)))    # 축의 범위, 보수적으로 산정\n",
        "x = np.linspace(-axlim, axlim, 101)\n",
        "X, Y = np.meshgrid(x, x)               # 격자 생성\n",
        "\n",
        "Fxy = (X-h)**2 + (Y-k)**2 - r**2\n",
        "\n",
        "plt.contour(X, Y, Fxy, [0])\n",
        "plt.plot([-axlim,axlim], [0,0], 'k--')    # y=0 축\n",
        "plt.plot([0,0], [-axlim,axlim], 'k--')    # x=0 축\n",
        "plt.plot(h,k, 'ro')\n",
        "plt.grid(alpha=0.3)\n",
        "plt.gca().set_aspect('equal')\n",
        "\n",
        "\n",
        "plt.show()"
      ],
      "metadata": {
        "id": "AucCDIXBTuma"
      },
      "execution_count": null,
      "outputs": []
    },
    {
      "cell_type": "markdown",
      "source": [
        "### Ellipses(타원)\n",
        "\n",
        "$\\frac{(x-h)^2}{a^2}+\\frac{(y-k)^2}{b^2}=1 $"
      ],
      "metadata": {
        "id": "QAHY-eYHR7tg"
      }
    },
    {
      "cell_type": "code",
      "source": [
        "h, k = 1, 2\n",
        "a, b = 2, 3"
      ],
      "metadata": {
        "id": "iDijaKqKR4uZ"
      },
      "execution_count": null,
      "outputs": []
    },
    {
      "cell_type": "code",
      "source": [
        "axlim = np.max([a, b]) + np.max((abs(h), abs(k)))\n",
        "\n",
        "x = np.linspace(-axlim, axlim, 100)\n",
        "X,Y = np.meshgrid(x,x)\n",
        "\n",
        "ellipse = (X-h)**2/a**2 + (Y-k)**2/b**2 - 1\n",
        "\n",
        "plt.contour(X, Y, ellipse, 0)\n",
        "plt.plot([-axlim,axlim], [0,0], 'k--')\n",
        "plt.plot([0,0], [-axlim,axlim], 'k--')\n",
        "plt.gca().set_aspect('equal')\n",
        "plt.grid(alpha=0.3)\n",
        "plt.plot(h, k, 'ro')\n",
        "\n",
        "plt.show()"
      ],
      "metadata": {
        "id": "wMhDffI7BqBH"
      },
      "execution_count": null,
      "outputs": []
    },
    {
      "cell_type": "markdown",
      "source": [
        "### Hyperbolas (쌍곡선)\n",
        "\n",
        "$\\frac{(x-h)^2}{a^2} - \\frac{(y-k)^2}{b^2} = 1$"
      ],
      "metadata": {
        "id": "qwtequRAm_LB"
      }
    },
    {
      "cell_type": "code",
      "source": [
        "h, k = 1, 2\n",
        "a, b = 2, 1\n",
        "\n",
        "axlim = np.max([a, b]) + np.max((abs(h), abs(k)))\n",
        "x = np.linspace(-axlim, axlim, 101)\n",
        "X, Y = np.meshgrid(x,x)\n",
        "\n",
        "hyperbola = (X-h)**2/a**2 - (Y-k)**2/b**2 - 1\n",
        "\n",
        "plt.contour(X,Y,hyperbola, 0)\n",
        "\n",
        "plt.gca().set_aspect('equal')\n",
        "plt.plot(h,k, 'ro')\n",
        "plt.grid(alpha=0.3)\n",
        "plt.plot([-axlim, axlim],[0,0], 'k--')\n",
        "plt.plot([0,0], [-axlim, axlim], 'k--')\n",
        "\n",
        "plt.show()"
      ],
      "metadata": {
        "id": "iuqde7bWFvqu"
      },
      "execution_count": null,
      "outputs": []
    }
  ]
}