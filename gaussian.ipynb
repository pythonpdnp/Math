{
  "nbformat": 4,
  "nbformat_minor": 0,
  "metadata": {
    "colab": {
      "provenance": [],
      "collapsed_sections": [
        "UjHKEhoiWz6y"
      ],
      "authorship_tag": "ABX9TyPFAypMhdicFtrHy4A8G1XJ",
      "include_colab_link": true
    },
    "kernelspec": {
      "name": "python3",
      "display_name": "Python 3"
    },
    "language_info": {
      "name": "python"
    }
  },
  "cells": [
    {
      "cell_type": "markdown",
      "metadata": {
        "id": "view-in-github",
        "colab_type": "text"
      },
      "source": [
        "<a href=\"https://colab.research.google.com/github/pythonpdnp/Math/blob/main/gaussian.ipynb\" target=\"_parent\"><img src=\"https://colab.research.google.com/assets/colab-badge.svg\" alt=\"Open In Colab\"/></a>"
      ]
    },
    {
      "cell_type": "code",
      "execution_count": null,
      "metadata": {
        "id": "eRC_JD91Wm2Y"
      },
      "outputs": [],
      "source": [
        "import numpy as np\n",
        "import matplotlib.pyplot as plt"
      ]
    },
    {
      "cell_type": "markdown",
      "source": [
        "### gaussian\n",
        "$\\text{g = exp}(\\frac{-4\\ln(2)t^2}{h^2}) $"
      ],
      "metadata": {
        "id": "UjHKEhoiWz6y"
      }
    },
    {
      "cell_type": "code",
      "source": [
        "h = 0.999\n",
        "t = np.linspace(-3, 3, 1001)\n",
        "\n",
        "g = np.exp( -4*np.log(2)*t**2 / h**2)\n",
        "\n",
        "plt.plot(t, g)\n",
        "\n",
        "plt.show()"
      ],
      "metadata": {
        "id": "3urMj01NWxDZ"
      },
      "execution_count": null,
      "outputs": []
    },
    {
      "cell_type": "code",
      "source": [
        "N = 100\n",
        "G = np.zeros((N, len(t)))\n",
        "\n",
        "for i in range(N):\n",
        "  h = (i+1)/100\n",
        "  G[i, :] = np.exp( -4*np.log(2)*t**2 / h**2)\n",
        "\n",
        "plt.pcolormesh(G)\n",
        "plt.show()"
      ],
      "metadata": {
        "id": "bMRrjIFnfP1_"
      },
      "execution_count": null,
      "outputs": []
    },
    {
      "cell_type": "code",
      "source": [
        "plt.imshow(G)\n",
        "plt.show()"
      ],
      "metadata": {
        "id": "jD5Jni4BgOUj"
      },
      "execution_count": null,
      "outputs": []
    }
  ]
}